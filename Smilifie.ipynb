{
 "cells": [
  {
   "cell_type": "code",
   "execution_count": null,
   "metadata": {},
   "outputs": [],
   "source": [
    "from scipy.spatial import distance\n",
    "from imutils.video import VideoStream, FPS\n",
    "from imutils import face_utils\n",
    "import imutils\n",
    "import dlib\n",
    "import cv2\n",
    "import numpy as np\n",
    "import time"
   ]
  },
  {
   "cell_type": "code",
   "execution_count": null,
   "metadata": {},
   "outputs": [],
   "source": [
    "def smile(mouth):\n",
    "    A = distance.euclidean(mouth[3], mouth[9])\n",
    "    B = distance.euclidean(mouth[2], mouth[10])\n",
    "    C = distance.euclidean(mouth[4], mouth[8])\n",
    "    avg = (A + B + C) / 3\n",
    "    D = distance.euclidean(mouth[0], mouth[6])\n",
    "    mar = avg/D\n",
    "    return mar"
   ]
  },
  {
   "cell_type": "code",
   "execution_count": null,
   "metadata": {},
   "outputs": [],
   "source": [
    "COUNTER = 0\n",
    "TOTAL = 0\n",
    "\n",
    "detect = dlib.get_frontal_face_detector()\n",
    "predict = dlib.shape_predictor(\"shape_predictor_68_face_landmarks.dat\")\n",
    "\n",
    "(mStart, mEnd) = face_utils.FACIAL_LANDMARKS_IDXS[\"mouth\"]"
   ]
  },
  {
   "cell_type": "code",
   "execution_count": null,
   "metadata": {},
   "outputs": [],
   "source": [
    "vs = VideoStream(src=0).start()\n",
    "fileStream = False\n",
    "time.sleep(1.0)\n",
    "\n",
    "fps = FPS().start()\n",
    "cv2.namedWindow(\"test\")\n",
    "\n",
    "while True:\n",
    "    frame = vs.read()\n",
    "    frame = imutils.resize(frame, width=450)\n",
    "    gray = cv2.cvtColor(frame, cv2.COLOR_BGR2GRAY)\n",
    "    subjects = detect(gray, 0)\n",
    "    \n",
    "    for subject in subjects:\n",
    "        shape = predict(gray, subject)\n",
    "        shape = face_utils.shape_to_np(shape)#converting to NumPy Array\n",
    "        \n",
    "        mouth = shape[mStart:mEnd]\n",
    "        mar = smile(mouth)\n",
    "        \n",
    "        mouthHull = cv2.convexHull(mouth)\n",
    "        cv2.drawContours(frame, [mouthHull], -1, (0, 255, 0), 1)\n",
    "        \n",
    "        if mar <= .3 or mar > .38:\n",
    "            COUNTER += 1\n",
    "                \n",
    "        else:\n",
    "            if COUNTER >= 15:\n",
    "                TOTAL += 1\n",
    "                frame = vs.read()\n",
    "                time.sleep(.3)\n",
    "                frame2 = frame.copy()\n",
    "                img_name = \"opencv_frame_{}.png\".format(TOTAL)\n",
    "                cv2.imwrite(img_name, frame)\n",
    "                print(\"{} written!\".format(img_name))\n",
    "            COUNTER = 0\n",
    "            \n",
    "        cv2.putText(frame, \"MAR: {}\".format(mar), (10, 30),cv2.FONT_HERSHEY_SIMPLEX, 0.7, (0, 255, 0), 2)\n",
    "            \n",
    "    cv2.imshow(\"Frame\", frame)\n",
    "    fps.update()\n",
    "    \n",
    "    key = cv2.waitKey(1) & 0xFF\n",
    "    if key == ord(\"q\"):\n",
    "        break\n",
    "    \n",
    "fps.stop()\n"
   ]
  }
 ],
 "metadata": {
  "kernelspec": {
   "display_name": "Python 3",
   "language": "python",
   "name": "python3"
  },
  "language_info": {
   "codemirror_mode": {
    "name": "ipython",
    "version": 3
   },
   "file_extension": ".py",
   "mimetype": "text/x-python",
   "name": "python",
   "nbconvert_exporter": "python",
   "pygments_lexer": "ipython3",
   "version": "3.6.9"
  }
 },
 "nbformat": 4,
 "nbformat_minor": 2
}
